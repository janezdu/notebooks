{
 "cells": [
  {
   "cell_type": "code",
   "execution_count": 1,
   "metadata": {
    "collapsed": true
   },
   "outputs": [],
   "source": [
    "'''\n",
    "X is a uniformly distributed RV over [1,0]\n",
    "g(x) = e^(-sqrt(1 - x^2))/sqrt(x)\n",
    "'''\n",
    "import numpy as np\n",
    "import matplotlib.pyplot as plt\n",
    "\n",
    "\n",
    "def g(x):\n",
    "    return np.e**(-np.sqrt(1 - x**2))/np.sqrt(x)\n",
    "\n",
    "\n",
    "def f(x):\n",
    "    return np.sqrt(x)**(-1)\n",
    "\n",
    "\n",
    "num = 1500\n",
    "uni = np.random.uniform(0, 1, num)\n",
    "\n",
    "# f(x) = 1\n",
    "sum = 0\n",
    "factor = 1\n",
    "naiveaverage = []\n",
    "\n",
    "for i in range(1, num):\n",
    "    sum += g(uni[i])\n",
    "    naiveaverage.append(factor * sum/i)\n",
    "\n",
    "\n",
    "# f(x) = 1/(sqrt(x))\n",
    "sum = 0\n",
    "factor = 2  # calculated by hand\n",
    "plotaverages = []\n",
    "distr = uni**2\n",
    "\n",
    "for i in range(1, num):\n",
    "    sum += g(distr[i])/f(distr[i])\n",
    "    plotaverages.append(factor * sum/i)\n",
    "\n",
    "# actual value\n",
    "plt.axhline(y=0.85174, color='k', linestyle='dashed')\n",
    "# mc integration\n",
    "plt.plot(plotaverages)\n",
    "plt.plot(naiveaverage, c='r')\n",
    "\n",
    "# other graph details\n",
    "plt.xlabel('Sample Size')\n",
    "plt.ylabel('Approximation')\n",
    "plt.title(\"Comparing f(x) = 1 [red] and f(x) = 1/sqrt(x) [blue]\")\n",
    "plt.axis([0, num, .5, 1.2])\n",
    "plt.grid(True)\n",
    "\n",
    "plt.show()\n"
   ]
  },
  {
   "cell_type": "code",
   "execution_count": null,
   "metadata": {
    "collapsed": true
   },
   "outputs": [],
   "source": []
  }
 ],
 "metadata": {
  "kernelspec": {
   "display_name": "Python 3",
   "language": "python",
   "name": "python3"
  },
  "language_info": {
   "codemirror_mode": {
    "name": "ipython",
    "version": 3
   },
   "file_extension": ".py",
   "mimetype": "text/x-python",
   "name": "python",
   "nbconvert_exporter": "python",
   "pygments_lexer": "ipython3",
   "version": "3.5.1"
  }
 },
 "nbformat": 4,
 "nbformat_minor": 0
}
